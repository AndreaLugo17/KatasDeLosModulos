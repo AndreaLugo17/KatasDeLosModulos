{
  "cells": [
    {
      "cell_type": "markdown",
      "metadata": {},
      "source": [
        "# Ejercicio: Uso de funciones en Python"
      ]
    },
    {
      "cell_type": "markdown",
      "metadata": {},
      "source": [
        "#### Ejercicio 1: Trabajar con argumentos en funciones\n",
        "\n",
        "Los argumentos requeridos en las funciones se utilizan cuando las funciones necesitan que esos argumentos funcionen correctamente. En este ejercicio, construirás un informe de combustible que requiere información de varias ubicaciones de combustible en todo el cohete.\n",
        "\n"
      ]
    },
    {
      "cell_type": "markdown",
      "metadata": {},
      "source": [
        "Comienza por crear una función que necesite tres lecturas de combustible y devuelva un informe:"
      ]
    },
    {
      "cell_type": "code",
      "execution_count": 3,
      "metadata": {},
      "outputs": [],
      "source": [
        "def reporte(tanque_1, tanque_2, tanque_3):\n",
        "    promedio = (tanque_1 + tanque_2 + tanque_3) / 3\n",
        "    return f\"\"\"Informe de combustible:\n",
        "    Promedio: {promedio}%\n",
        "    Tanque principal: {tanque_1}%\n",
        "    Tanque externo: {tanque_2}%\n",
        "    Tanque de hidrogeno: {tanque_3}% \n",
        "    \"\"\"\n"
      ]
    },
    {
      "cell_type": "markdown",
      "metadata": {},
      "source": [
        "Ahora que hemos definido la función de informes, vamos a comprobarlo. Para esta misión, los tanques no están llenos:"
      ]
    },
    {
      "cell_type": "code",
      "execution_count": 8,
      "metadata": {},
      "outputs": [
        {
          "name": "stdout",
          "output_type": "stream",
          "text": [
            "Informe de combustible:\n",
            "    Promedio: 75.0%\n",
            "    Tanque principal: 90%\n",
            "    Tanque externo: 50%\n",
            "    Tanque de hidrogeno: 85% \n",
            "    \n"
          ]
        }
      ],
      "source": [
        "print(reporte(90, 50, 85))"
      ]
    },
    {
      "cell_type": "markdown",
      "metadata": {},
      "source": [
        "En lugar de simplemente crear el informe, la función también está calculando el promedio. Mejora la legibilidad extrayendo el cálculo promedio de la función en una nueva función para que el promedio se pueda hacer de forma independiente:"
      ]
    },
    {
      "cell_type": "code",
      "execution_count": 7,
      "metadata": {},
      "outputs": [
        {
          "data": {
            "text/plain": [
              "75.0"
            ]
          },
          "execution_count": 7,
          "metadata": {},
          "output_type": "execute_result"
        }
      ],
      "source": [
        "# Función promedio \n",
        "def promedio(values):\n",
        "    total = sum(values)\n",
        "    numero_tanques = len(values)\n",
        "    return total / numero_tanques\n",
        "\n",
        "# Test the averaging function with a list of integers:\n",
        "promedio([90, 50, 85]) "
      ]
    },
    {
      "cell_type": "markdown",
      "metadata": {},
      "source": [
        "Ahora actualiza la función de informes para llamando a la nueva función del promedio:\n"
      ]
    },
    {
      "cell_type": "code",
      "execution_count": 10,
      "metadata": {},
      "outputs": [
        {
          "name": "stdout",
          "output_type": "stream",
          "text": [
            "Informe de combustible:\n",
            "    Promedio: 75.0%\n",
            "    Tanque principal: 90%\n",
            "    Tanque externo: 50%\n",
            "    Tanque de hidrogeno: 85% \n",
            "    \n"
          ]
        }
      ],
      "source": [
        "# Actualiza la función\n",
        "def reporte(tanque_1, tanque_2, tanque_3):\n",
        "    return f\"\"\"Informe de combustible:\n",
        "    Promedio: {promedio([tanque_1, tanque_2, tanque_3])}%\n",
        "    Tanque principal: {tanque_1}%\n",
        "    Tanque externo: {tanque_2}%\n",
        "    Tanque de hidrogeno: {tanque_3}% \n",
        "    \"\"\"\n",
        "\n",
        "# Call the updated function again with different values\n",
        "print(reporte(90, 50, 85))"
      ]
    },
    {
      "cell_type": "markdown",
      "metadata": {},
      "source": [
        "# Ejercicio 2: Trabajo con argumentos de palabra clave"
      ]
    },
    {
      "cell_type": "markdown",
      "metadata": {},
      "source": [
        "#### Ejercicio : Trabajar con argumentos de palabras clave en funciones\n",
        "En este ejercicio, construirás un informe de cohete que requiere varias piezas de información, como el tiempo hasta el destino, el combustible a la izquierda y el nombre del destino. Comienza por crear una función que creará un informe preciso de la misión:"
      ]
    },
    {
      "cell_type": "code",
      "execution_count": 11,
      "metadata": {},
      "outputs": [
        {
          "name": "stdout",
          "output_type": "stream",
          "text": [
            "\n",
            "    Mision a Moon\n",
            "    Tiempo total de viaje: 65 minutos\n",
            "    Combustible total que queda: 500000 galones\n",
            "    \n"
          ]
        }
      ],
      "source": [
        "# Función con un informe preciso de la misión. Considera hora de prelanzamiento, tiempo de vuelo, destino, tanque externo y tanque interno\n",
        "def reporte_mision(hora_prelanzamiento, tiempo_vuelo, destino, tanque_externo, tanque_interno):\n",
        "    return f\"\"\"\n",
        "    Mision a {destino}\n",
        "    Tiempo total de viaje: {hora_prelanzamiento + tiempo_vuelo} minutos\n",
        "    Combustible total que queda: {tanque_externo+ tanque_interno} galones\n",
        "    \"\"\"\n",
        "\n",
        "print(reporte_mision(14, 51, \"luna\", 200000, 300000))\n"
      ]
    },
    {
      "cell_type": "markdown",
      "metadata": {},
      "source": [
        "La función es problemática porque no se puede adaptar para minutos adicionales o tanques adicionales de combustible. Hazlo más flexible permitiendo cualquier número de pasos basados en el tiempo y cualquier número de tanques. En lugar de usar `*args` y `**kwargs`, aprovecha el hecho de que puedes usar cualquier nombre que desees. Asegurate que la función sea más legible mediante el uso de nombres de variables que están asociados con las entradas, como `*minutes` y `**fuel_reservoirs`:"
      ]
    },
    {
      "cell_type": "code",
      "execution_count": 13,
      "metadata": {},
      "outputs": [
        {
          "name": "stdout",
          "output_type": "stream",
          "text": [
            "\n",
            "    Mision a luna\n",
            "    Tiempo total de viaje: 76 minutes\n",
            "    Combustible total que queda: 500000\n",
            "    \n"
          ]
        }
      ],
      "source": [
        "def mission_report(destino, *minutes, **fuel_reservoirs):\n",
        "    return f\"\"\"\n",
        "    Mision a {destino}\n",
        "    Tiempo total de viaje: {sum(minutes)} minutes\n",
        "    Combustible total que queda: {sum(fuel_reservoirs.values())}\n",
        "    \"\"\"\n",
        "\n",
        "print(mission_report(\"luna\", 10, 15, 51, main=200000, external=300000))"
      ]
    },
    {
      "cell_type": "markdown",
      "metadata": {},
      "source": [
        "Debido a que el combustible que queda en los tanques es específico de cada tanque, actualiza la función para usar el nombre de cada tanque en el informe:"
      ]
    },
    {
      "cell_type": "code",
      "execution_count": 14,
      "metadata": {},
      "outputs": [
        {
          "name": "stdout",
          "output_type": "stream",
          "text": [
            "\n",
            "    Mision a Moon\n",
            "    Tiempo total de viaje: 74 minutes\n",
            "    Combustible total que queda: 500000\n",
            "    main tanque --> 200000 galones restntes\n",
            "external tanque --> 300000 galones restntes\n",
            "\n"
          ]
        }
      ],
      "source": [
        "def mission_report(destino, *minutes, **fuel_reservoirs):\n",
        "    main_report = f\"\"\"\n",
        "    Mision a {destino}\n",
        "    Tiempo total de viaje: {sum(minutes)} minutes\n",
        "    Combustible total que queda: {sum(fuel_reservoirs.values())}\n",
        "    \"\"\"\n",
        "    for tank_name, gallons in fuel_reservoirs.items():\n",
        "        main_report += f\"{tank_name} tanque --> {gallons} galones restntes\\n\"\n",
        "    return main_report\n",
        "\n",
        "print(mission_report(\"Moon\", 8, 11, 55, main=200000, external=300000))"
      ]
    }
  ],
  "metadata": {
    "interpreter": {
      "hash": "205095b8b86ea82a021a8fc2ffba2b3bc9f8d0be25999901963b225939f75778"
    },
    "kernelspec": {
      "display_name": "Python 3.8.10 64-bit ('tmp': conda)",
      "name": "python3"
    },
    "language_info": {
      "codemirror_mode": {
        "name": "ipython",
        "version": 3
      },
      "file_extension": ".py",
      "mimetype": "text/x-python",
      "name": "python",
      "nbconvert_exporter": "python",
      "pygments_lexer": "ipython3",
      "version": "3.8.8"
    },
    "nteract": {
      "version": "nteract-front-end@1.0.0"
    },
    "orig_nbformat": 4
  },
  "nbformat": 4,
  "nbformat_minor": 2
}
